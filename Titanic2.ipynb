{
 "metadata": {
  "language_info": {
   "codemirror_mode": {
    "name": "ipython",
    "version": 3
   },
   "file_extension": ".py",
   "mimetype": "text/x-python",
   "name": "python",
   "nbconvert_exporter": "python",
   "pygments_lexer": "ipython3",
   "version": "3.9.1-final"
  },
  "orig_nbformat": 2,
  "kernelspec": {
   "name": "python3",
   "display_name": "Python 3.9.1 64-bit",
   "metadata": {
    "interpreter": {
     "hash": "97a7e1a6c7d4a888137192d984dbe72a61ae5ff8fdae26a0daef53d6307a1826"
    }
   }
  }
 },
 "nbformat": 4,
 "nbformat_minor": 2,
 "cells": [
  {
   "cell_type": "code",
   "execution_count": 140,
   "metadata": {},
   "outputs": [],
   "source": [
    "import pandas as pd \n",
    "import numpy as np\n",
    "\n",
    "train = pd.read_csv(\"train.csv\")\n",
    "test = pd.read_csv(\"test.csv\")"
   ]
  },
  {
   "cell_type": "code",
   "execution_count": 141,
   "metadata": {},
   "outputs": [
    {
     "output_type": "stream",
     "name": "stdout",
     "text": [
      "<class 'pandas.core.frame.DataFrame'>\nRangeIndex: 891 entries, 0 to 890\nData columns (total 12 columns):\n #   Column       Non-Null Count  Dtype  \n---  ------       --------------  -----  \n 0   PassengerId  891 non-null    int64  \n 1   Survived     891 non-null    int64  \n 2   Pclass       891 non-null    int64  \n 3   Name         891 non-null    object \n 4   Sex          891 non-null    object \n 5   Age          714 non-null    float64\n 6   SibSp        891 non-null    int64  \n 7   Parch        891 non-null    int64  \n 8   Ticket       891 non-null    object \n 9   Fare         891 non-null    float64\n 10  Cabin        204 non-null    object \n 11  Embarked     889 non-null    object \ndtypes: float64(2), int64(5), object(5)\nmemory usage: 83.7+ KB\n"
     ]
    }
   ],
   "source": [
    "train.info()"
   ]
  },
  {
   "cell_type": "code",
   "execution_count": 142,
   "metadata": {},
   "outputs": [
    {
     "output_type": "stream",
     "name": "stdout",
     "text": [
      "<class 'pandas.core.frame.DataFrame'>\nRangeIndex: 418 entries, 0 to 417\nData columns (total 11 columns):\n #   Column       Non-Null Count  Dtype  \n---  ------       --------------  -----  \n 0   PassengerId  418 non-null    int64  \n 1   Pclass       418 non-null    int64  \n 2   Name         418 non-null    object \n 3   Sex          418 non-null    object \n 4   Age          332 non-null    float64\n 5   SibSp        418 non-null    int64  \n 6   Parch        418 non-null    int64  \n 7   Ticket       418 non-null    object \n 8   Fare         417 non-null    float64\n 9   Cabin        91 non-null     object \n 10  Embarked     418 non-null    object \ndtypes: float64(2), int64(4), object(5)\nmemory usage: 36.0+ KB\n"
     ]
    }
   ],
   "source": [
    "test.info()"
   ]
  },
  {
   "cell_type": "code",
   "execution_count": 143,
   "metadata": {},
   "outputs": [],
   "source": [
    "def clean_data(data):\n",
    "    data['Fare'] = data['Fare'].fillna(data['Fare'].dropna().median())\n",
    "    data['Age'] =  data['Age'].fillna(data['Age'].dropna().median())\n",
    "    data.drop('Cabin', axis=1, inplace=True)\n",
    "    data['Embarked'] = data['Embarked'].fillna('S')"
   ]
  },
  {
   "cell_type": "code",
   "execution_count": 144,
   "metadata": {},
   "outputs": [
    {
     "output_type": "stream",
     "name": "stdout",
     "text": [
      "<class 'pandas.core.frame.DataFrame'>\nRangeIndex: 891 entries, 0 to 890\nData columns (total 11 columns):\n #   Column       Non-Null Count  Dtype  \n---  ------       --------------  -----  \n 0   PassengerId  891 non-null    int64  \n 1   Survived     891 non-null    int64  \n 2   Pclass       891 non-null    int64  \n 3   Name         891 non-null    object \n 4   Sex          891 non-null    object \n 5   Age          891 non-null    float64\n 6   SibSp        891 non-null    int64  \n 7   Parch        891 non-null    int64  \n 8   Ticket       891 non-null    object \n 9   Fare         891 non-null    float64\n 10  Embarked     891 non-null    object \ndtypes: float64(2), int64(5), object(4)\nmemory usage: 76.7+ KB\n"
     ]
    }
   ],
   "source": [
    "clean_data(train)\n",
    "clean_data(test)\n",
    "train.info()"
   ]
  },
  {
   "cell_type": "code",
   "execution_count": 145,
   "metadata": {},
   "outputs": [],
   "source": [
    "def Add_FamilySize(data):\n",
    "    data['FamilySize'] = data['SibSp'] + data['Parch'] + 1"
   ]
  },
  {
   "cell_type": "code",
   "execution_count": 146,
   "metadata": {},
   "outputs": [],
   "source": [
    "def Replace_fare(data):\n",
    "    data['Fare'] = pd.cut(x = data['Fare'], bins=[0, 7.91, 14.54, 31, 99, 250, 1000], labels=['Very_Cheap', 'Cheap', 'Moderate', 'Costly', 'Expensive', 'Very_Expensive'])\n",
    "    data['Fare'] = data['Fare'].fillna('Very_Cheap')"
   ]
  },
  {
   "cell_type": "code",
   "execution_count": 147,
   "metadata": {},
   "outputs": [],
   "source": [
    "def Replace_Name(data):\n",
    "    data['Title'] = data['Name'].str.extract(' ([A-Za-z]+)\\.', expand=False)\n",
    "\n",
    "    data['Title'] = data['Title'].replace(['Lady', 'Countess','Capt', 'Col','Don', 'Dr', 'Major', 'Rev','Sir', 'Jonkheer', 'Dona'], 'Rare')\n",
    "\n",
    "    data['Title'] = data['Title'].replace('Mlle', 'Miss')\n",
    "    data['Title'] = data['Title'].replace('Ms', 'Miss')\n",
    "    data['Title'] = data['Title'].replace('Mme', 'Mrs')"
   ]
  },
  {
   "cell_type": "code",
   "execution_count": 148,
   "metadata": {},
   "outputs": [],
   "source": [
    "def Replace_Age(data):\n",
    "    data['Age_Range'] = pd.cut(data['Age'], bins=[0,16,32,48,75,120], labels=['Children','Twenties','Grownups','Adult','Elder'])"
   ]
  },
  {
   "cell_type": "code",
   "execution_count": 149,
   "metadata": {},
   "outputs": [],
   "source": [
    "def Replace_Pclass(data):\n",
    "    data['Pclass'] = data['Pclass'].replace(1, 'First')\n",
    "    data['Pclass'] = data['Pclass'].replace(2, 'Second')\n",
    "    data['Pclass'] = data['Pclass'].replace(3, 'Third')"
   ]
  },
  {
   "cell_type": "code",
   "execution_count": 150,
   "metadata": {},
   "outputs": [],
   "source": [
    "def Feature_engineering(data):\n",
    "    Add_FamilySize(data)\n",
    "    Replace_fare(data)\n",
    "    Replace_Name(data)\n",
    "    Replace_Age(data)\n",
    "    Replace_Pclass(data)\n",
    "\n",
    "    return data.info()"
   ]
  },
  {
   "cell_type": "code",
   "execution_count": 151,
   "metadata": {},
   "outputs": [
    {
     "output_type": "stream",
     "name": "stdout",
     "text": [
      "<class 'pandas.core.frame.DataFrame'>\nRangeIndex: 891 entries, 0 to 890\nData columns (total 14 columns):\n #   Column       Non-Null Count  Dtype   \n---  ------       --------------  -----   \n 0   PassengerId  891 non-null    int64   \n 1   Survived     891 non-null    int64   \n 2   Pclass       891 non-null    object  \n 3   Name         891 non-null    object  \n 4   Sex          891 non-null    object  \n 5   Age          891 non-null    float64 \n 6   SibSp        891 non-null    int64   \n 7   Parch        891 non-null    int64   \n 8   Ticket       891 non-null    object  \n 9   Fare         891 non-null    category\n 10  Embarked     891 non-null    object  \n 11  FamilySize   891 non-null    int64   \n 12  Title        891 non-null    object  \n 13  Age_Range    891 non-null    category\ndtypes: category(2), float64(1), int64(5), object(6)\nmemory usage: 85.8+ KB\n<class 'pandas.core.frame.DataFrame'>\nRangeIndex: 418 entries, 0 to 417\nData columns (total 13 columns):\n #   Column       Non-Null Count  Dtype   \n---  ------       --------------  -----   \n 0   PassengerId  418 non-null    int64   \n 1   Pclass       418 non-null    object  \n 2   Name         418 non-null    object  \n 3   Sex          418 non-null    object  \n 4   Age          418 non-null    float64 \n 5   SibSp        418 non-null    int64   \n 6   Parch        418 non-null    int64   \n 7   Ticket       418 non-null    object  \n 8   Fare         418 non-null    category\n 9   Embarked     418 non-null    object  \n 10  FamilySize   418 non-null    int64   \n 11  Title        418 non-null    object  \n 12  Age_Range    418 non-null    category\ndtypes: category(2), float64(1), int64(4), object(6)\nmemory usage: 37.3+ KB\n"
     ]
    }
   ],
   "source": [
    "Feature_engineering(train)\n",
    "Feature_engineering(test)"
   ]
  },
  {
   "cell_type": "code",
   "execution_count": 152,
   "metadata": {},
   "outputs": [
    {
     "output_type": "execute_result",
     "data": {
      "text/plain": [
       "Empty DataFrame\n",
       "Columns: [PassengerId, Survived, Pclass, Name, Sex, Age, SibSp, Parch, Ticket, Fare, Embarked, FamilySize, Title, Age_Range]\n",
       "Index: []"
      ],
      "text/html": "<div>\n<style scoped>\n    .dataframe tbody tr th:only-of-type {\n        vertical-align: middle;\n    }\n\n    .dataframe tbody tr th {\n        vertical-align: top;\n    }\n\n    .dataframe thead th {\n        text-align: right;\n    }\n</style>\n<table border=\"1\" class=\"dataframe\">\n  <thead>\n    <tr style=\"text-align: right;\">\n      <th></th>\n      <th>PassengerId</th>\n      <th>Survived</th>\n      <th>Pclass</th>\n      <th>Name</th>\n      <th>Sex</th>\n      <th>Age</th>\n      <th>SibSp</th>\n      <th>Parch</th>\n      <th>Ticket</th>\n      <th>Fare</th>\n      <th>Embarked</th>\n      <th>FamilySize</th>\n      <th>Title</th>\n      <th>Age_Range</th>\n    </tr>\n  </thead>\n  <tbody>\n  </tbody>\n</table>\n</div>"
     },
     "metadata": {},
     "execution_count": 152
    }
   ],
   "source": [
    "train[train['Fare'].isnull()]"
   ]
  },
  {
   "source": [
    "from sklearn.preprocessing import LabelEncoder\n",
    "  \n",
    "le = LabelEncoder()\n",
    "\n",
    "def encode(data):  \n",
    "    data['Pclass']= le.fit_transform(data['Pclass'])\n",
    "    data['Sex']= le.fit_transform(data['Sex'])\n",
    "    data['Fare']= le.fit_transform(data['Fare'])\n",
    "    data['Embarked']= le.fit_transform(data['Embarked'])\n",
    "    data['FamilySize']= le.fit_transform(data['FamilySize'])\n",
    "    data['Title']= le.fit_transform(data['Title'])\n",
    "    data['Age_Range']= le.fit_transform(data['Age_Range'])"
   ],
   "cell_type": "markdown",
   "metadata": {}
  },
  {
   "source": [
    "encode(train)\n",
    "encode(test)\n",
    "train.head()"
   ],
   "cell_type": "markdown",
   "metadata": {}
  },
  {
   "cell_type": "code",
   "execution_count": 153,
   "metadata": {},
   "outputs": [],
   "source": [
    "train = pd.get_dummies(train, columns=['Pclass', 'Sex', 'Fare', 'Embarked', 'Title', 'Age_Range'], prefix=['Pclass', 'Sex', 'Fare', 'Embarked', 'Title', 'Age_Range'])\n",
    "test = pd.get_dummies(test,columns=['Pclass', 'Sex', 'Fare', 'Embarked', 'Title', 'Age_Range'], prefix=['Pclass', 'Sex', 'Fare', 'Embarked', 'Title', 'Age_Range'])"
   ]
  },
  {
   "cell_type": "code",
   "execution_count": 154,
   "metadata": {},
   "outputs": [],
   "source": [
    "Y_train = train['Survived']"
   ]
  },
  {
   "cell_type": "code",
   "execution_count": 155,
   "metadata": {},
   "outputs": [],
   "source": [
    "train.drop(['Survived','PassengerId','Ticket','Age','Name'], axis=1, inplace=True)\n",
    "test.drop(['Ticket','Age','Name'], axis=1, inplace=True)"
   ]
  },
  {
   "cell_type": "code",
   "execution_count": 156,
   "metadata": {},
   "outputs": [
    {
     "output_type": "execute_result",
     "data": {
      "text/plain": [
       "Index(['PassengerId', 'SibSp', 'Parch', 'FamilySize', 'Pclass_First',\n",
       "       'Pclass_Second', 'Pclass_Third', 'Sex_female', 'Sex_male',\n",
       "       'Fare_Very_Cheap', 'Fare_Cheap', 'Fare_Moderate', 'Fare_Costly',\n",
       "       'Fare_Expensive', 'Fare_Very_Expensive', 'Embarked_C', 'Embarked_Q',\n",
       "       'Embarked_S', 'Title_Master', 'Title_Miss', 'Title_Mr', 'Title_Mrs',\n",
       "       'Title_Rare', 'Age_Range_Children', 'Age_Range_Twenties',\n",
       "       'Age_Range_Grownups', 'Age_Range_Adult', 'Age_Range_Elder'],\n",
       "      dtype='object')"
      ]
     },
     "metadata": {},
     "execution_count": 156
    }
   ],
   "source": [
    "test.keys()"
   ]
  },
  {
   "cell_type": "code",
   "execution_count": 158,
   "metadata": {},
   "outputs": [],
   "source": [
    "X_train= train"
   ]
  },
  {
   "cell_type": "code",
   "execution_count": 166,
   "metadata": {},
   "outputs": [],
   "source": [
    "X_test = test[['SibSp', 'Parch', 'FamilySize', 'Pclass_First',\n",
    "       'Pclass_Second', 'Pclass_Third', 'Sex_female', 'Sex_male',\n",
    "       'Fare_Very_Cheap', 'Fare_Cheap', 'Fare_Moderate', 'Fare_Costly',\n",
    "       'Fare_Expensive', 'Fare_Very_Expensive', 'Embarked_C', 'Embarked_Q',\n",
    "       'Embarked_S', 'Title_Master', 'Title_Miss', 'Title_Mr', 'Title_Mrs',\n",
    "       'Title_Rare', 'Age_Range_Children', 'Age_Range_Twenties',\n",
    "       'Age_Range_Grownups', 'Age_Range_Adult', 'Age_Range_Elder']]"
   ]
  },
  {
   "cell_type": "code",
   "execution_count": 167,
   "metadata": {},
   "outputs": [],
   "source": [
    "from sklearn.ensemble import RandomForestClassifier"
   ]
  },
  {
   "cell_type": "code",
   "execution_count": 168,
   "metadata": {},
   "outputs": [],
   "source": [
    "RFC = RandomForestClassifier(n_estimators=120, random_state=42)"
   ]
  },
  {
   "cell_type": "code",
   "execution_count": 169,
   "metadata": {},
   "outputs": [
    {
     "output_type": "execute_result",
     "data": {
      "text/plain": [
       "RandomForestClassifier(n_estimators=120, random_state=42)"
      ]
     },
     "metadata": {},
     "execution_count": 169
    }
   ],
   "source": [
    "RFC.fit(X_train, Y_train)"
   ]
  },
  {
   "cell_type": "code",
   "execution_count": 170,
   "metadata": {},
   "outputs": [],
   "source": [
    "predictRFC = RFC.predict(X_test)"
   ]
  },
  {
   "cell_type": "code",
   "execution_count": 171,
   "metadata": {},
   "outputs": [],
   "source": [
    "submission = pd.DataFrame({\n",
    "        \"PassengerId\": test[\"PassengerId\"],\n",
    "        \"Survived\": predictRFC\n",
    "    })\n",
    "\n",
    "submission.to_csv('RandomForestClassifier.csv', index=False)"
   ]
  },
  {
   "cell_type": "code",
   "execution_count": 172,
   "metadata": {},
   "outputs": [],
   "source": [
    "from sklearn.linear_model import LinearRegression\n",
    "\n",
    "linear_regressor = LinearRegression()\n",
    "linear_regressor.fit(X_train, Y_train)\n",
    "\n",
    "prediction = linear_regressor.predict(X_test)\n",
    "prediction = [1 if p>0.5 else 0 for p in prediction]\n",
    "\n",
    "submission = pd.DataFrame({\n",
    "        \"PassengerId\": test[\"PassengerId\"],\n",
    "        \"Survived\": prediction\n",
    "    })\n",
    "\n",
    "submission.to_csv('LinearRegression2.csv', index=False)"
   ]
  },
  {
   "cell_type": "code",
   "execution_count": 173,
   "metadata": {},
   "outputs": [
    {
     "output_type": "execute_result",
     "data": {
      "text/plain": [
       "SVC(gamma='auto')"
      ]
     },
     "metadata": {},
     "execution_count": 173
    }
   ],
   "source": [
    "from sklearn.svm import SVC\n",
    "\n",
    "svm_clf = SVC(gamma=\"auto\")\n",
    "svm_clf.fit(X_train, Y_train)\n",
    "\n"
   ]
  },
  {
   "cell_type": "code",
   "execution_count": 174,
   "metadata": {},
   "outputs": [],
   "source": [
    "prediction = svm_clf.predict(X_test)\n",
    "\n",
    "submission = pd.DataFrame({\n",
    "        \"PassengerId\": test[\"PassengerId\"],\n",
    "        \"Survived\": prediction\n",
    "    })\n",
    "\n",
    "submission.to_csv('SVC.csv', index=False)"
   ]
  },
  {
   "cell_type": "code",
   "execution_count": 175,
   "metadata": {},
   "outputs": [],
   "source": [
    "from sklearn.linear_model import LogisticRegression\n",
    "\n",
    "linear_regressor = LogisticRegression()\n",
    "linear_regressor.fit(X_train, Y_train)\n",
    "\n",
    "prediction = linear_regressor.predict(X_test)\n",
    "\n",
    "submission = pd.DataFrame({\n",
    "        \"PassengerId\": test[\"PassengerId\"],\n",
    "        \"Survived\": prediction\n",
    "    })\n",
    "\n",
    "submission.to_csv('LogisticRegression.csv', index=False)"
   ]
  },
  {
   "cell_type": "code",
   "execution_count": 176,
   "metadata": {},
   "outputs": [
    {
     "output_type": "stream",
     "name": "stdout",
     "text": [
      "[17:04:45] WARNING: C:/Users/Administrator/workspace/xgboost-win64_release_1.3.0/src/learner.cc:1061: Starting in XGBoost 1.3.0, the default evaluation metric used with the objective 'binary:logistic' was changed from 'error' to 'logloss'. Explicitly set eval_metric if you'd like to restore the old behavior.\n"
     ]
    }
   ],
   "source": [
    "from xgboost import XGBClassifier\n",
    "\n",
    "xgb = XGBClassifier(n_estimators=120, use_label_encoder = False)\n",
    "xgb.fit(X_train, Y_train)\n",
    "\n",
    "predictedxgb = xgb.predict(X_test)\n",
    "\n",
    "submission = pd.DataFrame({\n",
    "        \"PassengerId\": test[\"PassengerId\"],\n",
    "        \"Survived\": predictedxgb\n",
    "    })\n",
    "\n",
    "submission.to_csv('XGBClassifier2.csv', index=False)"
   ]
  },
  {
   "cell_type": "code",
   "execution_count": null,
   "metadata": {},
   "outputs": [],
   "source": []
  },
  {
   "cell_type": "code",
   "execution_count": null,
   "metadata": {},
   "outputs": [],
   "source": []
  }
 ]
}